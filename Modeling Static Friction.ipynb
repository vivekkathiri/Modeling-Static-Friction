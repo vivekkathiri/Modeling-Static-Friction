{
 "cells": [
  {
   "cell_type": "code",
   "execution_count": 5,
   "metadata": {
    "collapsed": true
   },
   "outputs": [],
   "source": [
    "%matplotlib inline"
   ]
  },
  {
   "cell_type": "markdown",
   "metadata": {},
   "source": [
    "# Modeling Static Friction"
   ]
  },
  {
   "cell_type": "markdown",
   "metadata": {},
   "source": [
    "### Introduction:"
   ]
  },
  {
   "cell_type": "markdown",
   "metadata": {},
   "source": [
    "From everyday experience, we know that it takes a certain amount of force to overcome friction and get an object sliding. The goal of this investigation is to model the dependence of this maximum static frictional force on the mass of the object in question."
   ]
  },
  {
   "cell_type": "markdown",
   "metadata": {},
   "source": [
    "### Procedure:"
   ]
  },
  {
   "cell_type": "markdown",
   "metadata": {},
   "source": [
    "We attached a spring scale to the side of a hollow box on a level surface. Adding additional masses, we measured the amount of force it took to get the box to begin to slide. "
   ]
  },
  {
   "cell_type": "markdown",
   "metadata": {},
   "source": [
    "<figure>\n",
    "    <img src=\"img/Friction Apparatus.png\" width=400px/>\n",
    "    <figcaption style=\"text-align:center; font-size: 12px\">Fig. 1 - Sketch of the apparatus</figcaption>\n",
    "</figure>"
   ]
  },
  {
   "cell_type": "markdown",
   "metadata": {},
   "source": [
    "<figure>\n",
    "    <img src=\"img/Apparatus Photo.jpg\" width=400px/>\n",
    "    <figcaption style=\"text-align:center; font-size: 12px;\">Fig. 2 - Photo of the apparatus</figcaption>\n",
    "</figure>"
   ]
  },
  {
   "cell_type": "markdown",
   "metadata": {
    "collapsed": true
   },
   "source": [
    "### Data and Analysis:"
   ]
  },
  {
   "cell_type": "markdown",
   "metadata": {},
   "source": [
    "| $m_{added}$   | $F_{max}$    |\n",
    "|-----|-------|\n",
    "| 100   | 1.0  | \n",
    "| 500   | 3.0  | \n",
    "| 600   | 3.5  | \n",
    "| 200   | 1.5  | \n",
    "| 300   | 2.0  | \n"
   ]
  },
  {
   "cell_type": "code",
   "execution_count": 13,
   "metadata": {
    "collapsed": false
   },
   "outputs": [
    {
     "name": "stdout",
     "output_type": "stream",
     "text": [
      "0.005\n"
     ]
    },
    {
     "data": {
      "image/png": "[encoded data removed]",
      "text/plain": [
       "<matplotlib.figure.Figure at 0x7f75710>"
      ]
     },
     "metadata": {},
     "output_type": "display_data"
    }
   ],
   "source": [
    "\n",
    "import matplotlib.pyplot as plt\n",
    "import numpy as np\n",
    "from scipy.optimize import curve_fit\n",
    "\n",
    "m = [100,500,600,200,300]\n",
    "f = [1.0,3.0,3.5,1.5,2.0]\n",
    "\n",
    "mm = np.linspace(-200, 700, 500)\n",
    "\n",
    "def linear(x, a, b):\n",
    "    return a*x + b\n",
    "\n",
    "a, b = curve_fit(linear, m, f)[0]\n",
    "print(a)\n",
    "\n",
    "plt.xlim(-200,600)\n",
    "plt.title(\"Modeling Static Friction\")\n",
    "plt.xlabel(\"Mass Added (g)\")\n",
    "plt.ylabel(\"Max Frictional Force\")\n",
    "plt.plot(m, f, '.')\n",
    "plt.plot(mm, linear(mm, a, b), '--')\n",
    "plt.show()\n"
   ]
  },
  {
   "cell_type": "markdown",
   "metadata": {
    "collapsed": true
   },
   "source": [
    "   PULLED INCLINE\n",
    "\n",
    "| $g_{grams}$   | $n_{newtons}$     |\n",
    "|-----|-------|\n",
    "| 300     | 2.5  |\n",
    "| 500     | 3.2  |   \n",
    "| 600     | 4.5  |\n",
    "| 800     | 5.5  |\n",
    "| 1000    | 6.5  |   \n",
    "\n",
    "\n",
    "\n"
   ]
  },
  {
   "cell_type": "markdown",
   "metadata": {
    "collapsed": true
   },
   "source": [
    "   FLAT GROUND\n",
    "\n",
    "| $g_{grams}$   | $n_{newtons}$     |\n",
    "|-----|-------|\n",
    "| 300     | 2   |\n",
    "| 500     | 2.5 |   \n",
    "| 600     | 3.5 |\n",
    "| 800     | 3.7 |\n",
    "| 1000    | 4   |   \n",
    "\n",
    "\n"
   ]
  },
  {
   "cell_type": "markdown",
   "metadata": {},
   "source": [
    "DECLINE PULL DOWN\n",
    "\n",
    "| $g_{grams}$   | $n_{newtons}$     |\n",
    "|-----|-------|\n",
    "| 300     | 1   |\n",
    "| 500     | 1.5 |\n",
    "| 600     | 1.7 |   \n",
    "| 800     | 1.85|\n",
    "| 1000    | 2   |"
   ]
  },
  {
   "cell_type": "code",
   "execution_count": 14,
   "metadata": {
    "collapsed": false,
    "scrolled": false
   },
   "outputs": [
    {
     "name": "stdout",
     "output_type": "stream",
     "text": [
      "0.00295205479235\n"
     ]
    },
    {
     "data": {
      "image/png": "[encoded data removed]",
      "text/plain": [
       "<matplotlib.figure.Figure at 0x86e5828>"
      ]
     },
     "metadata": {},
     "output_type": "display_data"
    }
   ],
   "source": [
    "import matplotlib.pyplot as plt\n",
    "import numpy as np\n",
    "from scipy.optimize import curve_fit\n",
    "\n",
    "m = [300,500,600,800,1000] \n",
    "f = [2,2.5,3.5,3.7,4] \n",
    "fi = [1,1.5,1.7,1.85,2] \n",
    "\n",
    "mm = np.linspace(0, 1000, 500)\n",
    "\n",
    "def linear(x, a, b):\n",
    "    return a*x + b\n",
    "\n",
    "a, b = curve_fit(linear, m, f)[0]\n",
    "print(a)\n",
    "\n",
    "plt.xlim(0,1000)\n",
    "plt.title(\"Modeling Static Friction\")\n",
    "plt.xlabel(\"Mass Added (g)\")\n",
    "plt.ylabel(\"Max Frictional Force\")\n",
    "plt.plot(m, f, '.')\n",
    "plt.plot(m, fi, '.')\n",
    "plt.plot(mm, linear(mm, a, b), '--')\n",
    "\n",
    "plt.show()"
   ]
  },
  {
   "cell_type": "code",
   "execution_count": null,
   "metadata": {
    "collapsed": true
   },
   "outputs": [],
   "source": []
  },
  {
   "cell_type": "markdown",
   "metadata": {},
   "source": [
    "\n",
    "In our experiment we learned that gravity makes it easier to pull objects downwards. In the lab we learned how to use the python. Using the python we learned how to code making a graph, and table. Inputting the informaton that we gathered from the lab into python we learned that an object with more mass requires a greater force to move it. This rule applies to objects being pulled in any direction. Although this rule applies to objects being pulled in any direction this doesn't mean that they all require the same force to move the same mass in different directions. We learned that it takes less force to pull objects downwards, and more force to pull objects upward.\n"
   ]
  },
  {
   "cell_type": "markdown",
   "metadata": {
    "collapsed": true
   },
   "source": [
    "| $m_{Kg}$    | $Fsp_{Newton }$    | $Fs{Fs}$     |\n",
    "|-----|-------|\n",
    "| 0.3   | 2.5  | 1.8 |\n",
    "| 0.5   | 3.2  | 2 |\n",
    "| 0.6   | 4.5  | 3.1 |\n",
    "| 0.8   | 5.5  | 3.6 |\n",
    "| 1     | 6.5  | 5.0 | \n"
   ]
  },
  {
   "cell_type": "code",
   "execution_count": 22,
   "metadata": {
    "collapsed": false,
    "scrolled": true
   },
   "outputs": [
    {
     "name": "stdout",
     "output_type": "stream",
     "text": [
      "5.96575341895\n"
     ]
    },
    {
     "data": {
      "image/png": "[encoded data removed]",
      "text/plain": [
       "<matplotlib.figure.Figure at 0x6161a20>"
      ]
     },
     "metadata": {},
     "output_type": "display_data"
    }
   ],
   "source": [
    "import matplotlib.pyplot as plt\n",
    "import numpy as np\n",
    "from scipy.optimize import curve_fit\n",
    "\n",
    "m = [0.3,0.5,0.6,0.8,1] \n",
    "f = [2.5,3.2,4.5,5.5,6.5] \n",
    "fi = [1.8,2,3.1,3.6,5.0] \n",
    "\n",
    "mm = np.linspace(0, 10)\n",
    "\n",
    "def linear(x, a, b):\n",
    "    return a*x + b\n",
    "\n",
    "a, b = curve_fit(linear, m, f)[0]\n",
    "print(a)\n",
    "\n",
    "plt.xlim(0,7)\n",
    "plt.title(\"Modeling Static Friction\")\n",
    "plt.xlabel(\"Mass Added (g)\")\n",
    "plt.ylabel(\"Max Frictional Force\")\n",
    "plt.plot(m, f, '*')\n",
    "plt.plot(m, fi, '.')\n",
    "plt.plot(m, m, '^')\n",
    "plt.plot(mm, linear(mm, a, b), '--')\n",
    "\n",
    "plt.show()"
   ]
  },
  {
   "cell_type": "code",
   "execution_count": null,
   "metadata": {
    "collapsed": true
   },
   "outputs": [],
   "source": []
  }
 ],
 "metadata": {
  "anaconda-cloud": {},
  "kernelspec": {
   "display_name": "Python 3",
   "language": "python",
   "name": "python3"
  },
  "language_info": {
   "codemirror_mode": {
    "name": "ipython",
    "version": 3
   },
   "file_extension": ".py",
   "mimetype": "text/x-python",
   "name": "python",
   "nbconvert_exporter": "python",
   "pygments_lexer": "ipython3",
   "version": "3.4.4"
  }
 },
 "nbformat": 4,
 "nbformat_minor": 1
}
